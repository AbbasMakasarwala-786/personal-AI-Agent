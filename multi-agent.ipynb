{
 "cells": [
  {
   "cell_type": "code",
   "execution_count": 117,
   "metadata": {},
   "outputs": [
    {
     "data": {
      "text/plain": [
       "True"
      ]
     },
     "execution_count": 117,
     "metadata": {},
     "output_type": "execute_result"
    }
   ],
   "source": [
    "from typing import Annotated,Sequence,List,Literal\n",
    "from pydantic import BaseModel,Field\n",
    "from langchain_core.messages import HumanMessage\n",
    "from langchain_community.tools.tavily_search import TavilySearchResults\n",
    "from langchain_community.tools.arxiv import ArxivQueryRun\n",
    "from langchain_community.tools.riza.command import ExecPython\n",
    "from langchain_groq import ChatGroq\n",
    "from langgraph.types import Command\n",
    "from langgraph.graph import START,END,StateGraph,MessagesState\n",
    "from langgraph.prebuilt import create_react_agent\n",
    "\n",
    "from dotenv import load_dotenv\n",
    "load_dotenv()"
   ]
  },
  {
   "cell_type": "code",
   "execution_count": 118,
   "metadata": {},
   "outputs": [],
   "source": [
    "# 1 intialize llm\n",
    "\n",
    "llm =ChatGroq(model='llama-3.3-70b-versatile')"
   ]
  },
  {
   "cell_type": "code",
   "execution_count": 119,
   "metadata": {},
   "outputs": [],
   "source": [
    "# defineing tools\n",
    "\n",
    "tool_tavily=TavilySearchResults(max_results=2)\n",
    "\n",
    "tool_code_interpreter=ExecPython()\n",
    "tools=[tool_tavily,tool_code_interpreter]"
   ]
  },
  {
   "cell_type": "code",
   "execution_count": 120,
   "metadata": {},
   "outputs": [
    {
     "data": {
      "text/plain": [
       "'Riza code execution returned a non-zero exit code. The output captured from stderr was:\\nTraceback (most recent call last):\\n  File \"<string>\", line 1\\n    give me how many As present in a string of AVYGABAAHKJHDAAAAUHBU?\\n         ^^\\nSyntaxError: invalid syntax\\n'"
      ]
     },
     "execution_count": 120,
     "metadata": {},
     "output_type": "execute_result"
    }
   ],
   "source": [
    "tool_code_interpreter.invoke('give me how many As present in a string of AVYGABAAHKJHDAAAAUHBU?')"
   ]
  },
  {
   "cell_type": "code",
   "execution_count": 121,
   "metadata": {},
   "outputs": [],
   "source": [
    "system_prompt = ('''You are a workflow supervisor managing a team of three agents: Prompt Enhancer, Researcher,research papers and Coder. Your role is to direct the flow of tasks by selecting the next agent based on the current stage of the workflow. For each task, provide a clear rationale for your choice, ensuring that the workflow progresses logically, efficiently, and toward a timely completion.\n",
    "\n",
    "**Team Members**:\n",
    "1. Enhancer: Use prompt enhancer as the first preference, to Focuse on clarifying vague or incomplete user queries, improving their quality, and ensuring they are well-defined before further processing.\n",
    "2. Researcher: Specializes in gathering information.\n",
    "3. research_paper_node: this node helps to gather information about a research paper.\n",
    "4. Coder: Handles technical tasks related to caluclation, coding, data analysis, and problem-solving, ensuring the correct implementation of solutions.\n",
    "\n",
    "**Responsibilities**:\n",
    "1. Carefully review each user request and evaluate agent responses for relevance and completeness.\n",
    "2. Continuously route tasks to the next best-suited agent if needed.\n",
    "3. Ensure the workflow progresses efficiently, without terminating until the task is fully resolved.\n",
    "\n",
    "Your goal is to maximize accuracy and effectiveness by leveraging each agent’s unique expertise while ensuring smooth workflow execution.\n",
    "''')\n",
    "\n",
    "\n",
    "class Supervisor(BaseModel):\n",
    "    # field is used to give additional information fot the literal \n",
    "    # : The colon is used to specify the type of the variable (type hinting). It tells us what kind of value this variable is expected to hold.\n",
    "    next: Literal['enhancer','researcher','research_paper_node','coder']=Field(\n",
    "        description=\"specifies the next worker in the pipeline:\"\n",
    "        \"'enhancer' for enhancing the user prompt if it is unclear or vague,\"\n",
    "        \"'reseracher' for gathering additional information,\"\n",
    "        \"'research_paper_node' for gathering information from a research papers on the internet,\"\n",
    "        \"'coder' for handling technical tasks such as calculation, coding, data analysis, and problem-solving\"\n",
    "    )\n",
    "\n",
    "    reason :str =Field(\n",
    "        description=\"the reason for the decision,providing context on why a particular worker was chosen\"\n",
    "    )"
   ]
  },
  {
   "cell_type": "code",
   "execution_count": 122,
   "metadata": {},
   "outputs": [],
   "source": [
    "def supervisor_node(state:MessagesState) -> Command[Literal['enhancer','researcher','research_paper_node','coder']]:\n",
    "    \"\"\"\n",
    "    supervisor node for routing tasks based on the current state and llm response .\n",
    "    Agrs:\n",
    "        state (MessageState): the current state containing message history.\n",
    "    returns:\n",
    "        Command: A command indicatingthe next state or action\n",
    "    \"\"\"\n",
    "\n",
    "    messages=[\n",
    "        {'role':'system','content':system_prompt},\n",
    "    ]+state[\"messages\"]# state['message]- it is the message while taling to the llm\n",
    "\n",
    "    response = llm.with_structured_output(Supervisor).invoke(messages)\n",
    "    goto=response.next\n",
    "\n",
    "    reason=response.reason\n",
    "\n",
    "    print(f\"Current Node:Supervisor -> Goto:{goto}\")\n",
    "    return Command(\n",
    "        update={\n",
    "            \"messages\":[HumanMessage(content=reason,name='supervisor')],\n",
    "        },\n",
    "        goto=goto\n",
    "    )"
   ]
  },
  {
   "cell_type": "code",
   "execution_count": 123,
   "metadata": {},
   "outputs": [],
   "source": [
    "def enhancer_node(state:MessagesState)->Command[Literal['supervisor']]:\n",
    "    \"\"\"\n",
    "    Enhancer node for refining and clarifying user inputs.\n",
    "\n",
    "    Args:\n",
    "        state (MessagesState): The current state containing the conversation history.\n",
    "\n",
    "    Returns:\n",
    "        Command: A command to update the state with the enhanced query and route back to the supervisor.\n",
    "    \"\"\"\n",
    "    system_prompt = (\n",
    "        \"You are an advanced query enhancer. Your task is to:\\n\"\n",
    "        \"Don't ask anything to the user, select the most appropriate prompt\"\n",
    "        \"1. Clarify and refine user inputs.\\n\"\n",
    "        \"2. Identify any ambiguities in the query.\\n\"\n",
    "        \"3. Generate a more precise and actionable version of the original request.\\n\"\n",
    "    )\n",
    "\n",
    "    messages=[{\"role\":\"system\",\"content\":system_prompt},]+state['messages']\n",
    "\n",
    "    enhanced_query=llm.invoke(messages)\n",
    "\n",
    "    print(\"Current node:prompt Enhancer -> goto:supervisor\")\n",
    "    return Command(\n",
    "        update={\n",
    "            \"message\":[HumanMessage(content=enhanced_query.content,name=\"enhancer\")]\n",
    "        },\n",
    "        goto=\"supervisor\"\n",
    "    )"
   ]
  },
  {
   "cell_type": "code",
   "execution_count": 124,
   "metadata": {},
   "outputs": [],
   "source": [
    "def research_node(state:MessagesState)->Command[Literal['validator']]:\n",
    "    \"\"\"\n",
    "    Research node for leveraging a ReAct agent to process research-related tasks.\n",
    "\n",
    "    Args:\n",
    "        state (MessagesState): The current state containing the conversation history.\n",
    "\n",
    "    Returns:\n",
    "        Command: A command to update the state with the research results and route to the validator.\n",
    "    \"\"\"\n",
    "\n",
    "    research_agent=create_react_agent(\n",
    "        llm,\n",
    "        tools=[tool_tavily],\n",
    "        state_modifier=\"You are a researcher. Focus on gathering information and generating content. Do not perform any other tasks\"\n",
    "    )\n",
    "\n",
    "    result=research_agent.invoke(state)\n",
    "\n",
    "    return Command(\n",
    "        update={\n",
    "            \"messages\":[HumanMessage(content=result['messages'][-1].content,name='research_node')],\n",
    "        },\n",
    "        goto='validator'\n",
    "    )"
   ]
  },
  {
   "cell_type": "code",
   "execution_count": 125,
   "metadata": {},
   "outputs": [],
   "source": [
    "def research_paper_node(state:MessagesState)-> Command[Literal['validator']]:\n",
    "    \"\"\"\n",
    "    Research node for leveraging a ReAct agent to process research-related tasks.\n",
    "\n",
    "    Args:\n",
    "        state (MessagesState): The current state containing the conversation history.\n",
    "\n",
    "    Returns:\n",
    "        Command: A command to update the state with the research results and route to the validator.\n",
    "    \"\"\"\n",
    "    paper_name=llm.invoke(f\"you are a name idetifier bot you responsiblity is to identify the name of the research paper in the entire context of this message just return back the name{state['messages'][-1].content}\")\n",
    "    loader = ArxivLoader(\n",
    "    query=paper_name.content,\n",
    "    load_max_docs=2\n",
    "    )\n",
    "    docs = loader.get_summaries_as_docs()\n",
    "    result=docs[0]\n",
    "   \n",
    "    result=llm.invoke(f\"Sumamrize this research paper{result}\")\n",
    "    return Command(\n",
    "        update={\n",
    "            \"messages\":[HumanMessage(content=result.content,name='research_paper_node')],\n",
    "        },\n",
    "        goto='validator'\n",
    "    )"
   ]
  },
  {
   "cell_type": "code",
   "execution_count": 126,
   "metadata": {},
   "outputs": [],
   "source": [
    "def code_node(state: MessagesState) -> Command[Literal[\"validator\"]]:\n",
    "    \"\"\"\n",
    "    Coder node for leveraging a ReAct agent to process analyzing, solving math questions, and executing code.\n",
    "\n",
    "    Args:\n",
    "        state (MessagesState): The current state containing the conversation history.\n",
    "\n",
    "    Returns:\n",
    "        Command: A command to update the state with the research results and route to the validator.\n",
    "    \"\"\"\n",
    "    # Create a specialized ReAct agent for coding and problem-solving tasks\n",
    "    code_agent = create_react_agent(\n",
    "        llm,\n",
    "        tools=[tool_code_interpreter],\n",
    "        state_modifier=(\n",
    "            \"You are a coder and analyst. Focus on mathematical caluclations, analyzing, solving math questions, \"\n",
    "            \"and executing code. Handle technical problem-solving and data tasks.\"\n",
    "        )\n",
    "    )\n",
    "\n",
    "    # Invoke the agent with the current state to process the input and perform its task\n",
    "    result = code_agent.invoke(state)\n",
    "\n",
    "    # Debug logging to trace responses and node transitions\n",
    "    print(f\"Current Node: Coder -> Goto: validator\")\n",
    "    # print(f\"Response:\", result)\n",
    "\n",
    "    # Return a command to update the state and move to the 'validator' node\n",
    "    return Command(\n",
    "        update={\n",
    "            \"messages\": [\n",
    "                # Append the last message (agent's response) to the state, tagged with \"coder\"\n",
    "                HumanMessage(content=result[\"messages\"][-1].content, name=\"coder\")\n",
    "            ]\n",
    "        },\n",
    "        # Specify the next node in the workflow: \"validator\"\n",
    "        goto=\"validator\",\n",
    "    )\n"
   ]
  },
  {
   "cell_type": "code",
   "execution_count": 127,
   "metadata": {},
   "outputs": [],
   "source": [
    "system_prompt = '''\n",
    "You are a workflow validator. Your task is to ensure the quality of the workflow. Specifically, you must:\n",
    "- Review the user's question (the first message in the workflow).\n",
    "- Review the answer (the last message in the workflow).\n",
    "- If the answer satisfactorily addresses the question, signal to end the workflow.\n",
    "- If the answer is inappropriate or incomplete, signal to route back to the supervisor for re-evaluation or further refinement.\n",
    "Ensure that the question and answer match logically and the workflow can be concluded or continued based on this evaluation.\n",
    "\n",
    "Routing Guidelines:\n",
    "1. 'supervisor' Agent: For unclear or vague state messages.\n",
    "2. Respond with 'FINISH' to end the workflow.\n",
    "'''\n",
    "\n",
    "\n",
    "class validator(BaseModel):\n",
    "    next:Literal['supervisor','FINISH']=Field(\n",
    "        description=\"Specifies the next worker in the pipeline: 'supervisor' to continue or 'FINISH' to terminate.\"\n",
    "    )\n",
    "\n",
    "    reason:str=Field(\n",
    "        description=\"Reason for the decison\"\n",
    "    )\n"
   ]
  },
  {
   "cell_type": "code",
   "execution_count": 128,
   "metadata": {},
   "outputs": [],
   "source": [
    "def validator_node(state:MessagesState)-> Command[Literal['supervisor','__end__']]:\n",
    "    \"\"\"\n",
    "    Validator node for checking if the question and the answer are appropriate.\n",
    "\n",
    "    Args:\n",
    "        state (MessagesState): The current state containing message history.\n",
    "\n",
    "    Returns:\n",
    "        Command: A command indicating whether to route back to the supervisor or end the workflow.\n",
    "    \"\"\"\n",
    "    user_query=state['messages'][0].content\n",
    "    agent_query=state['messages'][-1].content\n",
    "    messages=[{\"role\":\"system\",\"content\":system_prompt},\n",
    "              {\"role\":'user','content':user_query},\n",
    "              {\"role\":'assistant','content':agent_query}\n",
    "    ]\n",
    "    result=llm.with_structured_output(validator).invoke(messages)\n",
    "    goto=result.next\n",
    "    reason=result.reason\n",
    "\n",
    "    if goto=='FINISH' or goto==END:\n",
    "        goto=END\n",
    "        print(\"Trasisiton to end\")\n",
    "\n",
    "    else:\n",
    "        print(\"Trasition to supervisor\")\n",
    "\n",
    "\n",
    "    print(f\"Current Node:Supervisor -> Goto:{goto}\")\n",
    "    return Command(\n",
    "        update={\n",
    "            \"messages\":[HumanMessage(content=reason,name='validator')]\n",
    "        },\n",
    "        goto=goto\n",
    "    )\n"
   ]
  },
  {
   "cell_type": "code",
   "execution_count": 129,
   "metadata": {},
   "outputs": [],
   "source": [
    "# Initialize the StateGraph with MessagesState to manage the flow of messages between nodes\n",
    "builder = StateGraph(MessagesState)\n",
    "\n",
    "\n",
    "builder.add_node(\"supervisor\", supervisor_node)  # Add the supervisor node to the graph\n",
    "# Add task-specific nodes for various roles in the multi-agent system\n",
    "builder.add_node(\"enhancer\", enhancer_node)  # Node for refining and clarifying user inputs\n",
    "builder.add_node(\"researcher\", research_node)  # Node for handling research-related tasks\n",
    "builder.add_node(\"coder\", code_node)  # Node for managing coding and analytical tasks\n",
    "builder.add_node(\"research_paper_node\",research_paper_node)\n",
    "builder.add_node(\"validator\", validator_node)  # Node for managing coding and analytical tasks\n",
    "\n",
    "# Add edges and nodes to define the workflow of the graph\n",
    "builder.add_edge(START, \"supervisor\")  # Connect the start node to the supervisor node\n",
    "\n",
    "# Compile the graph to finalize its structure\n",
    "graph = builder.compile()\n"
   ]
  },
  {
   "cell_type": "code",
   "execution_count": 130,
   "metadata": {},
   "outputs": [
    {
     "data": {
      "image/png": "[encoded data removed]",
      "text/plain": [
       "<IPython.core.display.Image object>"
      ]
     },
     "metadata": {},
     "output_type": "display_data"
    }
   ],
   "source": [
    "\n",
    "from IPython.display import Image, display # Import for displaying images in a Jupyter Notebook\n",
    "\n",
    "display(Image(graph.get_graph(xray=True).draw_mermaid_png()))"
   ]
  },
  {
   "cell_type": "code",
   "execution_count": 131,
   "metadata": {},
   "outputs": [
    {
     "name": "stdout",
     "output_type": "stream",
     "text": [
      "Current Node:Supervisor -> Goto:research_paper_node\n",
      "\"Output from node 'supervisor':\"\n",
      "{ 'messages': [ HumanMessage(content=\"The user is asking for details about a specific research paper, 'LipNet', which requires gathering information from research papers on the internet.\", additional_kwargs={}, response_metadata={}, name='supervisor', id='a5ca8544-c814-4abd-826a-816780e53392')]}\n",
      "\n",
      "\"Output from node 'research_paper_node':\"\n",
      "{ 'messages': [ HumanMessage(content=\"This research paper introduces LipNet, a deep learning model for lipreading that can decode text from the movement of a speaker's mouth at the sentence level. Unlike previous approaches that focused on word-level classification, LipNet is an end-to-end trainable model that uses spatiotemporal convolutions, a recurrent network, and the connectionist temporal classification loss to map a sequence of video frames to text. The model is trained entirely end-to-end and achieves state-of-the-art results on the GRID corpus, with a 95.2% accuracy in sentence-level lipreading, outperforming experienced human lipreaders and previous word-level models. The key contributions of this work are:\\n\\n* Introducing the first end-to-end sentence-level lipreading model\\n* Demonstrating the importance of capturing temporal context in lipreading\\n* Achieving state-of-the-art results on the GRID corpus\\n* Outperforming experienced human lipreaders and previous word-level models\\n\\nThe paper highlights the potential of deep learning models for lipreading and opens up new possibilities for improving the accuracy and efficiency of lipreading systems.\", additional_kwargs={}, response_metadata={}, name='research_paper_node', id='9515c783-8f75-4f2e-93e8-4b498e080f48')]}\n",
      "\n",
      "Trasisiton to end\n",
      "Current Node:Supervisor -> Goto:__end__\n",
      "\"Output from node 'validator':\"\n",
      "{ 'messages': [ HumanMessage(content='The answer satisfactorily addresses the question about the paper LipNet.', additional_kwargs={}, response_metadata={}, name='validator', id='5539f863-df21-4a7c-bd3b-a393baa60004')]}\n",
      "\n"
     ]
    }
   ],
   "source": [
    "\n",
    "import pprint\n",
    "\n",
    "inputs = {\n",
    "    \"messages\": [\n",
    "        (\"user\", \"give me details about the paper lipnet\"),\n",
    "    ]\n",
    "}\n",
    "for output in graph.stream(inputs):\n",
    "    for key, value in output.items():\n",
    "        if value is None:\n",
    "            continue\n",
    "        pprint.pprint(f\"Output from node '{key}':\")\n",
    "        pprint.pprint(value, indent=2, width=80, depth=None)\n",
    "        print()\n",
    "     "
   ]
  },
  {
   "cell_type": "code",
   "execution_count": 132,
   "metadata": {},
   "outputs": [
    {
     "name": "stdout",
     "output_type": "stream",
     "text": [
      "Current Node:Supervisor -> Goto:researcher\n",
      "\"Output from node 'supervisor':\"\n",
      "{ 'messages': [ HumanMessage(content=\"The user's question requires gathering additional information on the impact of climate change on agriculture in Southeast Asia to provide a comprehensive answer.\", additional_kwargs={}, response_metadata={}, name='supervisor', id='fa38b5eb-c83c-4156-a3b7-292cfd18562e')]}\n",
      "\n",
      "\"Output from node 'researcher':\"\n",
      "{ 'messages': [ HumanMessage(content='<function=tavily_search_results_json[]{\"query\": \"solutions to mitigate climate change effects on agriculture in Southeast Asia\"}</function>', additional_kwargs={}, response_metadata={}, name='research_node', id='c268200c-d1d9-40c3-9f0c-c8877cc65919')]}\n",
      "\n",
      "Trasisiton to end\n",
      "Current Node:Supervisor -> Goto:__end__\n",
      "\"Output from node 'validator':\"\n",
      "{ 'messages': [ HumanMessage(content='The research has been conducted and potential solutions have been proposed to mitigate the effects of climate change on crop production in Southeast Asia.', additional_kwargs={}, response_metadata={}, name='validator', id='7dcc82e5-ab6a-444d-824f-59d3f5d16d13')]}\n",
      "\n"
     ]
    }
   ],
   "source": [
    "inputs = {\n",
    "    \"messages\": [\n",
    "        (\"user\", \"Research the impact of climate change on agriculture in Southeast Asia. Based on your findings, propose potential solutions to mitigate its effects on crop production\"),\n",
    "    ]\n",
    "}\n",
    "for output in graph.stream(inputs):\n",
    "    for key, value in output.items():\n",
    "        if value is None:\n",
    "            continue\n",
    "        pprint.pprint(f\"Output from node '{key}':\")\n",
    "        pprint.pprint(value, indent=2, width=80, depth=None)\n",
    "        print()"
   ]
  },
  {
   "cell_type": "code",
   "execution_count": null,
   "metadata": {},
   "outputs": [],
   "source": []
  }
 ],
 "metadata": {
  "kernelspec": {
   "display_name": ".Agentic",
   "language": "python",
   "name": "python3"
  },
  "language_info": {
   "codemirror_mode": {
    "name": "ipython",
    "version": 3
   },
   "file_extension": ".py",
   "mimetype": "text/x-python",
   "name": "python",
   "nbconvert_exporter": "python",
   "pygments_lexer": "ipython3",
   "version": "3.10.11"
  }
 },
 "nbformat": 4,
 "nbformat_minor": 2
}
